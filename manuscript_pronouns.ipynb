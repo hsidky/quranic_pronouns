{
 "cells": [
  {
   "cell_type": "code",
   "execution_count": 1,
   "metadata": {
    "ExecuteTime": {
     "end_time": "2021-03-06T22:07:14.520715Z",
     "start_time": "2021-03-06T22:07:13.150308Z"
    }
   },
   "outputs": [],
   "source": [
    "%matplotlib inline \n",
    "import numpy as np \n",
    "import pandas as pd \n",
    "import seaborn as sns\n",
    "import matplotlib.pyplot as plt\n",
    "from sklearn.decomposition import PCA\n",
    "from sklearn.cluster import KMeans"
   ]
  },
  {
   "cell_type": "code",
   "execution_count": 2,
   "metadata": {
    "ExecuteTime": {
     "end_time": "2021-03-06T22:07:14.524888Z",
     "start_time": "2021-03-06T22:07:14.522214Z"
    }
   },
   "outputs": [],
   "source": [
    "pd.options.display.max_columns = 100\n",
    "pd.options.display.max_rows = 100"
   ]
  },
  {
   "cell_type": "markdown",
   "metadata": {},
   "source": [
    "## Import data & clean"
   ]
  },
  {
   "cell_type": "code",
   "execution_count": 3,
   "metadata": {
    "ExecuteTime": {
     "end_time": "2021-03-06T22:07:14.591988Z",
     "start_time": "2021-03-06T22:07:14.526616Z"
    }
   },
   "outputs": [],
   "source": [
    "df = pd.read_excel('Quranic Pronouns.xlsx')"
   ]
  },
  {
   "cell_type": "code",
   "execution_count": 4,
   "metadata": {
    "ExecuteTime": {
     "end_time": "2021-03-06T22:07:14.648024Z",
     "start_time": "2021-03-06T22:07:14.640054Z"
    }
   },
   "outputs": [],
   "source": [
    "df = df.replace('?', np.NaN).iloc[:, 1:16]"
   ]
  },
  {
   "cell_type": "code",
   "execution_count": 5,
   "metadata": {
    "ExecuteTime": {
     "end_time": "2021-03-06T22:07:16.401026Z",
     "start_time": "2021-03-06T22:07:16.397247Z"
    }
   },
   "outputs": [],
   "source": [
    "columns = {\n",
    "    'Shelfmark': 'shelfmark', \n",
    "    'Ṣilat hāʿ (primary color)' : 'singular', \n",
    "    'biHU (primary color)' : 'bihu', \n",
    "    'Ṣilat mīm (primary color)' : 'plural', \n",
    "    '-ayhum (primary color)' : 'ayhum',\n",
    "    '-īhim (primary color)' : 'ihim',\n",
    "    '-ayhum +wasl (primary color)' : 'ayhum_wasl',\n",
    "    'Style' : 'style'\n",
    "}\n",
    "\n",
    "main_cols = ['shelfmark', 'singular', 'bihu', 'plural', 'ayhum', 'ihim', 'ayhum_wasl', 'style']"
   ]
  },
  {
   "cell_type": "code",
   "execution_count": 6,
   "metadata": {
    "ExecuteTime": {
     "end_time": "2021-03-06T22:07:16.561514Z",
     "start_time": "2021-03-06T22:07:16.558360Z"
    }
   },
   "outputs": [],
   "source": [
    "df = df.rename(columns=columns)"
   ]
  },
  {
   "cell_type": "code",
   "execution_count": 7,
   "metadata": {
    "ExecuteTime": {
     "end_time": "2021-03-06T22:07:17.047156Z",
     "start_time": "2021-03-06T22:07:16.905487Z"
    }
   },
   "outputs": [],
   "source": [
    "df_main = df.loc[:, main_cols].copy()\n",
    "df_main.loc[:, main_cols[1:-1]] = df_main[main_cols[1:-1]].apply(lambda x: x.str.lower().str.strip(), axis=1)"
   ]
  },
  {
   "cell_type": "markdown",
   "metadata": {},
   "source": [
    "## Cross tabulations/correlations on primary color"
   ]
  },
  {
   "cell_type": "markdown",
   "metadata": {},
   "source": [
    "Drop all ambiguous cases for this initial table since we are concerned with unambiguous systems"
   ]
  },
  {
   "cell_type": "code",
   "execution_count": 8,
   "metadata": {
    "ExecuteTime": {
     "end_time": "2021-03-06T22:07:19.958178Z",
     "start_time": "2021-03-06T22:07:19.952257Z"
    }
   },
   "outputs": [],
   "source": [
    "df_clear = df_main[\n",
    "    (df_main.plural != 'short/warsh') & \n",
    "    ~df_main.singular.str.contains('[(/]').astype(bool)\n",
    "]"
   ]
  },
  {
   "cell_type": "code",
   "execution_count": 9,
   "metadata": {
    "ExecuteTime": {
     "end_time": "2021-03-06T22:07:20.148886Z",
     "start_time": "2021-03-06T22:07:20.140596Z"
    }
   },
   "outputs": [],
   "source": [
    "df_systems = df_clear.groupby(['singular', 'bihu', 'plural']).size().reset_index(name='count')"
   ]
  },
  {
   "cell_type": "code",
   "execution_count": 10,
   "metadata": {
    "ExecuteTime": {
     "end_time": "2021-03-06T22:07:20.342109Z",
     "start_time": "2021-03-06T22:07:20.329545Z"
    }
   },
   "outputs": [],
   "source": [
    "df_systems['percent'] = df_systems['count']/df_systems['count'].sum()*100"
   ]
  },
  {
   "cell_type": "code",
   "execution_count": 11,
   "metadata": {
    "ExecuteTime": {
     "end_time": "2021-03-06T22:07:20.799014Z",
     "start_time": "2021-03-06T22:07:20.786949Z"
    }
   },
   "outputs": [
    {
     "data": {
      "text/html": [
       "<div>\n",
       "<style scoped>\n",
       "    .dataframe tbody tr th:only-of-type {\n",
       "        vertical-align: middle;\n",
       "    }\n",
       "\n",
       "    .dataframe tbody tr th {\n",
       "        vertical-align: top;\n",
       "    }\n",
       "\n",
       "    .dataframe thead th {\n",
       "        text-align: right;\n",
       "    }\n",
       "</style>\n",
       "<table border=\"1\" class=\"dataframe\">\n",
       "  <thead>\n",
       "    <tr style=\"text-align: right;\">\n",
       "      <th></th>\n",
       "      <th>singular</th>\n",
       "      <th>bihu</th>\n",
       "      <th>plural</th>\n",
       "      <th>count</th>\n",
       "      <th>percent</th>\n",
       "    </tr>\n",
       "  </thead>\n",
       "  <tbody>\n",
       "    <tr>\n",
       "      <th>0</th>\n",
       "      <td>harmonized</td>\n",
       "      <td>bihi</td>\n",
       "      <td>long</td>\n",
       "      <td>24</td>\n",
       "      <td>8.333333</td>\n",
       "    </tr>\n",
       "    <tr>\n",
       "      <th>1</th>\n",
       "      <td>harmonized</td>\n",
       "      <td>bihi</td>\n",
       "      <td>short</td>\n",
       "      <td>149</td>\n",
       "      <td>51.736111</td>\n",
       "    </tr>\n",
       "    <tr>\n",
       "      <th>2</th>\n",
       "      <td>harmonized</td>\n",
       "      <td>bihi</td>\n",
       "      <td>warsh</td>\n",
       "      <td>63</td>\n",
       "      <td>21.875000</td>\n",
       "    </tr>\n",
       "    <tr>\n",
       "      <th>3</th>\n",
       "      <td>unharmonized</td>\n",
       "      <td>bihi</td>\n",
       "      <td>long</td>\n",
       "      <td>46</td>\n",
       "      <td>15.972222</td>\n",
       "    </tr>\n",
       "    <tr>\n",
       "      <th>4</th>\n",
       "      <td>unharmonized</td>\n",
       "      <td>bihi</td>\n",
       "      <td>short</td>\n",
       "      <td>1</td>\n",
       "      <td>0.347222</td>\n",
       "    </tr>\n",
       "    <tr>\n",
       "      <th>5</th>\n",
       "      <td>unharmonized</td>\n",
       "      <td>bihu</td>\n",
       "      <td>long</td>\n",
       "      <td>5</td>\n",
       "      <td>1.736111</td>\n",
       "    </tr>\n",
       "  </tbody>\n",
       "</table>\n",
       "</div>"
      ],
      "text/plain": [
       "       singular  bihu plural  count    percent\n",
       "0    harmonized  bihi   long     24   8.333333\n",
       "1    harmonized  bihi  short    149  51.736111\n",
       "2    harmonized  bihi  warsh     63  21.875000\n",
       "3  unharmonized  bihi   long     46  15.972222\n",
       "4  unharmonized  bihi  short      1   0.347222\n",
       "5  unharmonized  bihu   long      5   1.736111"
      ]
     },
     "execution_count": 11,
     "metadata": {},
     "output_type": "execute_result"
    }
   ],
   "source": [
    "df_systems"
   ]
  },
  {
   "cell_type": "markdown",
   "metadata": {},
   "source": [
    "### Look at classical system in more detail"
   ]
  },
  {
   "cell_type": "code",
   "execution_count": 12,
   "metadata": {
    "ExecuteTime": {
     "end_time": "2021-03-06T22:07:23.616420Z",
     "start_time": "2021-03-06T22:07:23.610776Z"
    }
   },
   "outputs": [],
   "source": [
    "df_classical = df_clear[\n",
    "    (df_clear.singular == 'harmonized') & \n",
    "    (df_clear.bihu == 'bihi') & \n",
    "    (df_clear.plural == 'short') & \n",
    "    df_clear.ayhum_wasl.isin(['himi', 'himu', 'humu'])\n",
    "]"
   ]
  },
  {
   "cell_type": "code",
   "execution_count": 13,
   "metadata": {
    "ExecuteTime": {
     "end_time": "2021-03-06T22:07:26.314390Z",
     "start_time": "2021-03-06T22:07:26.307639Z"
    }
   },
   "outputs": [
    {
     "data": {
      "text/plain": [
       "(himi    0.500000\n",
       " himu    0.326087\n",
       " humu    0.173913\n",
       " Name: ayhum_wasl, dtype: float64, himi    23\n",
       " himu    15\n",
       " humu     8\n",
       " Name: ayhum_wasl, dtype: int64)"
      ]
     },
     "execution_count": 13,
     "metadata": {},
     "output_type": "execute_result"
    }
   ],
   "source": [
    "df_classical.ayhum_wasl.value_counts(normalize=True), df_classical.ayhum_wasl.value_counts(normalize=False)"
   ]
  },
  {
   "cell_type": "markdown",
   "metadata": {},
   "source": [
    "## Script style cross tab"
   ]
  },
  {
   "cell_type": "code",
   "execution_count": 15,
   "metadata": {
    "ExecuteTime": {
     "end_time": "2021-03-06T22:07:51.675596Z",
     "start_time": "2021-03-06T22:07:51.661323Z"
    }
   },
   "outputs": [
    {
     "data": {
      "text/html": [
       "<div>\n",
       "<style scoped>\n",
       "    .dataframe tbody tr th:only-of-type {\n",
       "        vertical-align: middle;\n",
       "    }\n",
       "\n",
       "    .dataframe tbody tr th {\n",
       "        vertical-align: top;\n",
       "    }\n",
       "\n",
       "    .dataframe thead th {\n",
       "        text-align: right;\n",
       "    }\n",
       "</style>\n",
       "<table border=\"1\" class=\"dataframe\">\n",
       "  <thead>\n",
       "    <tr style=\"text-align: right;\">\n",
       "      <th></th>\n",
       "      <th>shelfmark</th>\n",
       "      <th>singular</th>\n",
       "      <th>bihu</th>\n",
       "      <th>plural</th>\n",
       "      <th>ayhum</th>\n",
       "      <th>ihim</th>\n",
       "      <th>ayhum_wasl</th>\n",
       "      <th>style</th>\n",
       "    </tr>\n",
       "  </thead>\n",
       "  <tbody>\n",
       "    <tr>\n",
       "      <th>3</th>\n",
       "      <td>Arabe 6087=Wetzstein II 1913</td>\n",
       "      <td>unharmonized</td>\n",
       "      <td>bihu</td>\n",
       "      <td>long</td>\n",
       "      <td>NaN</td>\n",
       "      <td>NaN</td>\n",
       "      <td>NaN</td>\n",
       "      <td>B.Ia</td>\n",
       "    </tr>\n",
       "    <tr>\n",
       "      <th>4</th>\n",
       "      <td>Arabe 6140b/CUL Add. 1146</td>\n",
       "      <td>harmonized</td>\n",
       "      <td>bihi</td>\n",
       "      <td>short</td>\n",
       "      <td>NaN</td>\n",
       "      <td>NaN</td>\n",
       "      <td>himu</td>\n",
       "      <td>B.Ib</td>\n",
       "    </tr>\n",
       "    <tr>\n",
       "      <th>5</th>\n",
       "      <td>Arabe 325a</td>\n",
       "      <td>harmonized</td>\n",
       "      <td>bihi</td>\n",
       "      <td>warsh</td>\n",
       "      <td>him</td>\n",
       "      <td>NaN</td>\n",
       "      <td>himu</td>\n",
       "      <td>B.Ib</td>\n",
       "    </tr>\n",
       "    <tr>\n",
       "      <th>7</th>\n",
       "      <td>Arabe 330b</td>\n",
       "      <td>harmonized</td>\n",
       "      <td>bihi</td>\n",
       "      <td>short</td>\n",
       "      <td>hum</td>\n",
       "      <td>NaN</td>\n",
       "      <td>NaN</td>\n",
       "      <td>B.Ib</td>\n",
       "    </tr>\n",
       "    <tr>\n",
       "      <th>8</th>\n",
       "      <td>Arabe 333b</td>\n",
       "      <td>harmonized</td>\n",
       "      <td>bihi</td>\n",
       "      <td>short</td>\n",
       "      <td>NaN</td>\n",
       "      <td>NaN</td>\n",
       "      <td>NaN</td>\n",
       "      <td>B.Ib</td>\n",
       "    </tr>\n",
       "    <tr>\n",
       "      <th>9</th>\n",
       "      <td>Arabe 335</td>\n",
       "      <td>unharmonized</td>\n",
       "      <td>bihi</td>\n",
       "      <td>long</td>\n",
       "      <td>him</td>\n",
       "      <td>hum</td>\n",
       "      <td>NaN</td>\n",
       "      <td>B.Ib</td>\n",
       "    </tr>\n",
       "    <tr>\n",
       "      <th>10</th>\n",
       "      <td>Arabe 6140g</td>\n",
       "      <td>harmonized</td>\n",
       "      <td>bihi</td>\n",
       "      <td>long</td>\n",
       "      <td>NaN</td>\n",
       "      <td>NaN</td>\n",
       "      <td>NaN</td>\n",
       "      <td>B.Ib</td>\n",
       "    </tr>\n",
       "    <tr>\n",
       "      <th>255</th>\n",
       "      <td>Tubingen</td>\n",
       "      <td>harmonized</td>\n",
       "      <td>bihi</td>\n",
       "      <td>long</td>\n",
       "      <td>NaN</td>\n",
       "      <td>NaN</td>\n",
       "      <td>hvmu</td>\n",
       "      <td>B.Ia</td>\n",
       "    </tr>\n",
       "    <tr>\n",
       "      <th>392</th>\n",
       "      <td>NM. C.7th CE/56.62/4</td>\n",
       "      <td>unharmonized</td>\n",
       "      <td>NaN</td>\n",
       "      <td>long</td>\n",
       "      <td>NaN</td>\n",
       "      <td>NaN</td>\n",
       "      <td>NaN</td>\n",
       "      <td>B.Ib</td>\n",
       "    </tr>\n",
       "  </tbody>\n",
       "</table>\n",
       "</div>"
      ],
      "text/plain": [
       "                        shelfmark      singular  bihu plural ayhum ihim  \\\n",
       "3    Arabe 6087=Wetzstein II 1913  unharmonized  bihu   long   NaN  NaN   \n",
       "4       Arabe 6140b/CUL Add. 1146    harmonized  bihi  short   NaN  NaN   \n",
       "5                      Arabe 325a    harmonized  bihi  warsh   him  NaN   \n",
       "7                      Arabe 330b    harmonized  bihi  short   hum  NaN   \n",
       "8                      Arabe 333b    harmonized  bihi  short   NaN  NaN   \n",
       "9                       Arabe 335  unharmonized  bihi   long   him  hum   \n",
       "10                    Arabe 6140g    harmonized  bihi   long   NaN  NaN   \n",
       "255                      Tubingen    harmonized  bihi   long   NaN  NaN   \n",
       "392          NM. C.7th CE/56.62/4  unharmonized   NaN   long   NaN  NaN   \n",
       "\n",
       "    ayhum_wasl style  \n",
       "3          NaN  B.Ia  \n",
       "4         himu  B.Ib  \n",
       "5         himu  B.Ib  \n",
       "7          NaN  B.Ib  \n",
       "8          NaN  B.Ib  \n",
       "9          NaN  B.Ib  \n",
       "10         NaN  B.Ib  \n",
       "255       hvmu  B.Ia  \n",
       "392        NaN  B.Ib  "
      ]
     },
     "execution_count": 15,
     "metadata": {},
     "output_type": "execute_result"
    }
   ],
   "source": [
    "df_clear[df_clear['style'].fillna('').str.contains('B.I[ab]')]"
   ]
  },
  {
   "cell_type": "code",
   "execution_count": 16,
   "metadata": {
    "ExecuteTime": {
     "end_time": "2021-03-06T22:07:57.942176Z",
     "start_time": "2021-03-06T22:07:57.939621Z"
    }
   },
   "outputs": [],
   "source": [
    "df_clear_ss = df_clear#[~df_clear.ayhum_wasl.str.contains('[(/?]').astype(bool)]"
   ]
  },
  {
   "cell_type": "code",
   "execution_count": 17,
   "metadata": {
    "ExecuteTime": {
     "end_time": "2021-03-06T22:07:58.843172Z",
     "start_time": "2021-03-06T22:07:58.789726Z"
    }
   },
   "outputs": [],
   "source": [
    "df_script = pd.crosstab(df_clear_ss['style'], [\n",
    "    df_clear_ss.singular, \n",
    "    df_clear_ss.bihu, \n",
    "    df_clear_ss.plural], \n",
    "    margins=True, dropna=True)"
   ]
  },
  {
   "cell_type": "code",
   "execution_count": 18,
   "metadata": {
    "ExecuteTime": {
     "end_time": "2021-03-06T22:07:59.817934Z",
     "start_time": "2021-03-06T22:07:59.813868Z"
    }
   },
   "outputs": [],
   "source": [
    "df_script_ss = df_script[df_script['All'] > 4]"
   ]
  },
  {
   "cell_type": "code",
   "execution_count": 19,
   "metadata": {
    "ExecuteTime": {
     "end_time": "2021-03-06T22:08:00.047122Z",
     "start_time": "2021-03-06T22:08:00.033066Z"
    }
   },
   "outputs": [
    {
     "data": {
      "text/html": [
       "<div>\n",
       "<style scoped>\n",
       "    .dataframe tbody tr th:only-of-type {\n",
       "        vertical-align: middle;\n",
       "    }\n",
       "\n",
       "    .dataframe tbody tr th {\n",
       "        vertical-align: top;\n",
       "    }\n",
       "\n",
       "    .dataframe thead tr th {\n",
       "        text-align: left;\n",
       "    }\n",
       "\n",
       "    .dataframe thead tr:last-of-type th {\n",
       "        text-align: right;\n",
       "    }\n",
       "</style>\n",
       "<table border=\"1\" class=\"dataframe\">\n",
       "  <thead>\n",
       "    <tr>\n",
       "      <th>singular</th>\n",
       "      <th colspan=\"3\" halign=\"left\">harmonized</th>\n",
       "      <th colspan=\"3\" halign=\"left\">unharmonized</th>\n",
       "      <th>All</th>\n",
       "    </tr>\n",
       "    <tr>\n",
       "      <th>bihu</th>\n",
       "      <th colspan=\"3\" halign=\"left\">bihi</th>\n",
       "      <th colspan=\"2\" halign=\"left\">bihi</th>\n",
       "      <th>bihu</th>\n",
       "      <th></th>\n",
       "    </tr>\n",
       "    <tr>\n",
       "      <th>plural</th>\n",
       "      <th>long</th>\n",
       "      <th>short</th>\n",
       "      <th>warsh</th>\n",
       "      <th>long</th>\n",
       "      <th>short</th>\n",
       "      <th>long</th>\n",
       "      <th></th>\n",
       "    </tr>\n",
       "    <tr>\n",
       "      <th>style</th>\n",
       "      <th></th>\n",
       "      <th></th>\n",
       "      <th></th>\n",
       "      <th></th>\n",
       "      <th></th>\n",
       "      <th></th>\n",
       "      <th></th>\n",
       "    </tr>\n",
       "  </thead>\n",
       "  <tbody>\n",
       "    <tr>\n",
       "      <th>B.II</th>\n",
       "      <td>2</td>\n",
       "      <td>5</td>\n",
       "      <td>2</td>\n",
       "      <td>20</td>\n",
       "      <td>1</td>\n",
       "      <td>0</td>\n",
       "      <td>30</td>\n",
       "    </tr>\n",
       "    <tr>\n",
       "      <th>B.Ib</th>\n",
       "      <td>1</td>\n",
       "      <td>3</td>\n",
       "      <td>1</td>\n",
       "      <td>1</td>\n",
       "      <td>0</td>\n",
       "      <td>0</td>\n",
       "      <td>6</td>\n",
       "    </tr>\n",
       "    <tr>\n",
       "      <th>C.I</th>\n",
       "      <td>3</td>\n",
       "      <td>2</td>\n",
       "      <td>1</td>\n",
       "      <td>1</td>\n",
       "      <td>0</td>\n",
       "      <td>2</td>\n",
       "      <td>9</td>\n",
       "    </tr>\n",
       "    <tr>\n",
       "      <th>D commune</th>\n",
       "      <td>0</td>\n",
       "      <td>5</td>\n",
       "      <td>3</td>\n",
       "      <td>0</td>\n",
       "      <td>0</td>\n",
       "      <td>0</td>\n",
       "      <td>8</td>\n",
       "    </tr>\n",
       "    <tr>\n",
       "      <th>D.I</th>\n",
       "      <td>3</td>\n",
       "      <td>37</td>\n",
       "      <td>6</td>\n",
       "      <td>10</td>\n",
       "      <td>0</td>\n",
       "      <td>0</td>\n",
       "      <td>56</td>\n",
       "    </tr>\n",
       "    <tr>\n",
       "      <th>D.I/D.III</th>\n",
       "      <td>0</td>\n",
       "      <td>7</td>\n",
       "      <td>5</td>\n",
       "      <td>0</td>\n",
       "      <td>0</td>\n",
       "      <td>0</td>\n",
       "      <td>12</td>\n",
       "    </tr>\n",
       "    <tr>\n",
       "      <th>D.III</th>\n",
       "      <td>2</td>\n",
       "      <td>8</td>\n",
       "      <td>8</td>\n",
       "      <td>0</td>\n",
       "      <td>0</td>\n",
       "      <td>0</td>\n",
       "      <td>18</td>\n",
       "    </tr>\n",
       "    <tr>\n",
       "      <th>D.IV</th>\n",
       "      <td>4</td>\n",
       "      <td>5</td>\n",
       "      <td>4</td>\n",
       "      <td>12</td>\n",
       "      <td>0</td>\n",
       "      <td>0</td>\n",
       "      <td>25</td>\n",
       "    </tr>\n",
       "    <tr>\n",
       "      <th>D.Va</th>\n",
       "      <td>0</td>\n",
       "      <td>12</td>\n",
       "      <td>4</td>\n",
       "      <td>0</td>\n",
       "      <td>0</td>\n",
       "      <td>0</td>\n",
       "      <td>16</td>\n",
       "    </tr>\n",
       "    <tr>\n",
       "      <th>D.Vb</th>\n",
       "      <td>0</td>\n",
       "      <td>7</td>\n",
       "      <td>1</td>\n",
       "      <td>0</td>\n",
       "      <td>0</td>\n",
       "      <td>0</td>\n",
       "      <td>8</td>\n",
       "    </tr>\n",
       "    <tr>\n",
       "      <th>E.I</th>\n",
       "      <td>0</td>\n",
       "      <td>10</td>\n",
       "      <td>5</td>\n",
       "      <td>0</td>\n",
       "      <td>0</td>\n",
       "      <td>0</td>\n",
       "      <td>15</td>\n",
       "    </tr>\n",
       "    <tr>\n",
       "      <th>Group D</th>\n",
       "      <td>0</td>\n",
       "      <td>14</td>\n",
       "      <td>7</td>\n",
       "      <td>0</td>\n",
       "      <td>0</td>\n",
       "      <td>0</td>\n",
       "      <td>21</td>\n",
       "    </tr>\n",
       "    <tr>\n",
       "      <th>NS.I</th>\n",
       "      <td>0</td>\n",
       "      <td>8</td>\n",
       "      <td>0</td>\n",
       "      <td>0</td>\n",
       "      <td>0</td>\n",
       "      <td>0</td>\n",
       "      <td>8</td>\n",
       "    </tr>\n",
       "    <tr>\n",
       "      <th>NS.III</th>\n",
       "      <td>0</td>\n",
       "      <td>4</td>\n",
       "      <td>8</td>\n",
       "      <td>0</td>\n",
       "      <td>0</td>\n",
       "      <td>0</td>\n",
       "      <td>12</td>\n",
       "    </tr>\n",
       "    <tr>\n",
       "      <th>Unclassified</th>\n",
       "      <td>5</td>\n",
       "      <td>6</td>\n",
       "      <td>2</td>\n",
       "      <td>0</td>\n",
       "      <td>0</td>\n",
       "      <td>0</td>\n",
       "      <td>13</td>\n",
       "    </tr>\n",
       "    <tr>\n",
       "      <th>All</th>\n",
       "      <td>24</td>\n",
       "      <td>148</td>\n",
       "      <td>62</td>\n",
       "      <td>46</td>\n",
       "      <td>1</td>\n",
       "      <td>5</td>\n",
       "      <td>286</td>\n",
       "    </tr>\n",
       "  </tbody>\n",
       "</table>\n",
       "</div>"
      ],
      "text/plain": [
       "singular     harmonized             unharmonized             All\n",
       "bihu               bihi                     bihi       bihu     \n",
       "plural             long short warsh         long short long     \n",
       "style                                                           \n",
       "B.II                  2     5     2           20     1    0   30\n",
       "B.Ib                  1     3     1            1     0    0    6\n",
       "C.I                   3     2     1            1     0    2    9\n",
       "D commune             0     5     3            0     0    0    8\n",
       "D.I                   3    37     6           10     0    0   56\n",
       "D.I/D.III             0     7     5            0     0    0   12\n",
       "D.III                 2     8     8            0     0    0   18\n",
       "D.IV                  4     5     4           12     0    0   25\n",
       "D.Va                  0    12     4            0     0    0   16\n",
       "D.Vb                  0     7     1            0     0    0    8\n",
       "E.I                   0    10     5            0     0    0   15\n",
       "Group D               0    14     7            0     0    0   21\n",
       "NS.I                  0     8     0            0     0    0    8\n",
       "NS.III                0     4     8            0     0    0   12\n",
       "Unclassified          5     6     2            0     0    0   13\n",
       "All                  24   148    62           46     1    5  286"
      ]
     },
     "execution_count": 19,
     "metadata": {},
     "output_type": "execute_result"
    }
   ],
   "source": [
    "df_script_ss"
   ]
  },
  {
   "cell_type": "code",
   "execution_count": 20,
   "metadata": {
    "ExecuteTime": {
     "end_time": "2021-03-06T22:08:02.776381Z",
     "start_time": "2021-03-06T22:08:02.764688Z"
    }
   },
   "outputs": [
    {
     "name": "stderr",
     "output_type": "stream",
     "text": [
      "/Users/hsidky/miniconda3/envs/qconvnet/lib/python3.6/site-packages/pandas/core/generic.py:3111: PerformanceWarning: dropping on a non-lexsorted multi-index without a level parameter may impact performance.\n",
      "  obj = obj._drop_axis(labels, axis, level=level, errors=errors)\n"
     ]
    }
   ],
   "source": [
    "df_script_norm = df_script_ss.divide(df_script_ss['All'], axis='rows').drop('All', axis=0).drop('All', axis=1)"
   ]
  },
  {
   "cell_type": "code",
   "execution_count": 21,
   "metadata": {
    "ExecuteTime": {
     "end_time": "2021-03-06T22:08:03.647765Z",
     "start_time": "2021-03-06T22:08:03.644582Z"
    }
   },
   "outputs": [],
   "source": [
    "df_script_norm.columns = [' '.join(col).strip() for col in df_script_norm.columns.values]"
   ]
  },
  {
   "cell_type": "code",
   "execution_count": 22,
   "metadata": {
    "ExecuteTime": {
     "end_time": "2021-03-06T22:08:04.066578Z",
     "start_time": "2021-03-06T22:08:04.062636Z"
    }
   },
   "outputs": [],
   "source": [
    "style_map = {\n",
    "    'harmonized bihi long' : 'Long style',\n",
    "    'harmonized bihi short' : 'Classical',\n",
    "    'harmonized bihi warsh' : 'Warš',\n",
    "    'unharmonized bihi long' : 'Undescribed',\n",
    "    'unharmonized bihi short' : 'Arabe 340d',\n",
    "    'unharmonized bihu long' : 'Hijazi'\n",
    "}"
   ]
  },
  {
   "cell_type": "code",
   "execution_count": 23,
   "metadata": {
    "ExecuteTime": {
     "end_time": "2021-03-06T22:08:05.608683Z",
     "start_time": "2021-03-06T22:08:05.605133Z"
    }
   },
   "outputs": [],
   "source": [
    "df_script_norm.columns = df_script_norm.columns.map(style_map)"
   ]
  },
  {
   "cell_type": "code",
   "execution_count": 24,
   "metadata": {
    "ExecuteTime": {
     "end_time": "2021-03-06T22:08:05.816578Z",
     "start_time": "2021-03-06T22:08:05.812517Z"
    }
   },
   "outputs": [],
   "source": [
    "df_script_norm = df_script_norm.drop('Arabe 340d', axis=1).drop('Unclassified', axis=0)"
   ]
  },
  {
   "cell_type": "code",
   "execution_count": 25,
   "metadata": {
    "ExecuteTime": {
     "end_time": "2021-03-06T22:08:06.057966Z",
     "start_time": "2021-03-06T22:08:06.055011Z"
    }
   },
   "outputs": [],
   "source": [
    "style_order = ['C.I', 'B.Ib', 'B.II', 'D.I', 'D.IV', 'D.III', 'D.I/D.III', 'D commune', 'Group D', 'D.Va', 'D.Vb', 'E.I', 'NS.I', 'NS.III']"
   ]
  },
  {
   "cell_type": "code",
   "execution_count": 26,
   "metadata": {
    "ExecuteTime": {
     "end_time": "2021-03-06T22:08:06.989359Z",
     "start_time": "2021-03-06T22:08:06.985066Z"
    }
   },
   "outputs": [],
   "source": [
    "df_script_norm = df_script_norm.loc[style_order]"
   ]
  },
  {
   "cell_type": "code",
   "execution_count": 27,
   "metadata": {
    "ExecuteTime": {
     "end_time": "2021-03-06T22:08:23.908290Z",
     "start_time": "2021-03-06T22:08:22.305120Z"
    }
   },
   "outputs": [
    {
     "data": {
      "image/png": "[encoded data removed]",
      "text/plain": [
       "<Figure size 576x576 with 1 Axes>"
      ]
     },
     "metadata": {},
     "output_type": "display_data"
    }
   ],
   "source": [
    "plt.rcParams['font.size'] = 16\n",
    "fig, ax = plt.subplots(1, figsize=(8, 8))\n",
    "im = ax.imshow(df_script_norm, cmap=plt.cm.Blues, aspect='auto', vmax=1.2)\n",
    "ax.set_xticks(np.arange(df_script_norm.shape[1]))\n",
    "ax.set_yticks(np.arange(df_script_norm.shape[0]))\n",
    "\n",
    "ax.set_yticklabels(df_script_norm.index)\n",
    "ax.set_xticklabels(df_script_norm.columns, rotation=0)\n",
    "ax.tick_params(labeltop=True, labelbottom=False, top=True, bottom=False)\n",
    "\n",
    "ax.set_xlabel('Pronoun style')\n",
    "ax.set_ylabel('Script style')\n",
    "ax.xaxis.set_label_position('top') \n",
    "\n",
    "for i in range(df_script_norm.shape[0]):\n",
    "    for j in range(df_script_norm.shape[1]):\n",
    "        text = ax.text(j, i, f'{100*df_script_norm.iloc[i, j]:0.0f}%',ha='center', va='center', color='k')\n",
    "\n",
    "plt.tight_layout()\n",
    "plt.savefig('scriptstyle.png', dpi=300)"
   ]
  }
 ],
 "metadata": {
  "kernelspec": {
   "display_name": "Python [conda env:qconvnet]",
   "language": "python",
   "name": "conda-env-qconvnet-py"
  },
  "language_info": {
   "codemirror_mode": {
    "name": "ipython",
    "version": 3
   },
   "file_extension": ".py",
   "mimetype": "text/x-python",
   "name": "python",
   "nbconvert_exporter": "python",
   "pygments_lexer": "ipython3",
   "version": "3.6.7"
  }
 },
 "nbformat": 4,
 "nbformat_minor": 2
}
